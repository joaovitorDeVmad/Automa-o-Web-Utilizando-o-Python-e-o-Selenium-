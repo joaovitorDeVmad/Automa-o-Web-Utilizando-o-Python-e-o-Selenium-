{
 "cells": [
  {
   "cell_type": "code",
   "execution_count": null,
   "id": "63a78a8f-a3ae-4e55-8b04-1255bb2c4f18",
   "metadata": {},
   "outputs": [],
   "source": [
    "#Como Fazer uma Automação Web Utilizando o Python e o Selenium preenchimento de colunas sozinho.\n",
    "\n",
    "# Para aprender, vamos usar o Python para preencher um formulário na internet\n",
    "# requisitos \n",
    "# INSTALAR \n",
    "# Selenium                    pip install Selenium \n",
    "# WebDriver Manager           pip install WebDriver Manager\n",
    "# no seu terminal do anaconda pront de comando. \n",
    "\n",
    "# Passo 1: Entrar em ste da sua escolha\n",
    "# Passo 2: Preencher nome, preencher e-mail e numero\n",
    "# Passo 3: Clicar no botão para enviar o formulário"
   ]
  },
  {
   "cell_type": "code",
   "execution_count": 19,
   "id": "4732bf4a-548b-4090-bcdc-1da37e2a80a8",
   "metadata": {},
   "outputs": [],
   "source": [
    "#CODIGO DE EXECUÇAO\n",
    "\n",
    "from selenium import webdriver\n",
    "from webdriver_manager.chrome import ChromeDriverManager\n",
    "from selenium.webdriver.chrome.service import Service\n",
    "\n",
    "servico = Service(ChromeDriverManager().install())\n",
    "\n",
    "navegador = webdriver.Chrome(service = servico)\n",
    "navegador.get('https://pages.hashtagtreinamentos.com/inscricao-minicurso-python-automacao-org?origemurl=hashtag_yt_org_minipython_videoselenium')\n",
    "\n",
    "navegador.find_element('xpath','//*[@id=\"section-10356508\"]/section/div[2]/div/div[2]/form/div[1]/div/div[1]/div/input').send_keys('joao vitor almeida')\n",
    "# .click() voce usa para ele clicar aonde voce quer e .send_keys() para escrever.\n",
    "# o xpath voce pega na sua pagina web desejada copia e cola no comando so inspecionar a pagina e copiar o codigo e o colara qui.\n",
    "navegador.find_element('xpath','/html/body/div[2]/div[1]/section/div[2]/div/div[2]/form/div[1]/div/div[2]/div/input').send_keys('rjoaovit123@gmail.com')\n",
    "navegador.find_element('xpath','//*[@id=\"section-10356508\"]/section/div[2]/div/div[2]/form/div[1]/div/div[3]/div/input').send_keys('64992474462')\n",
    "\n",
    "navegador.find_element('xpath','//*[@id=\"section-10356508\"]/section/div[2]/div/div[2]/form/button').click()\n",
    "\n"
   ]
  },
  {
   "cell_type": "code",
   "execution_count": null,
   "id": "3e35b20b-0c5e-46a3-a053-aeb28b1f3970",
   "metadata": {},
   "outputs": [],
   "source": []
  }
 ],
 "metadata": {
  "kernelspec": {
   "display_name": "Python 3 (ipykernel)",
   "language": "python",
   "name": "python3"
  },
  "language_info": {
   "codemirror_mode": {
    "name": "ipython",
    "version": 3
   },
   "file_extension": ".py",
   "mimetype": "text/x-python",
   "name": "python",
   "nbconvert_exporter": "python",
   "pygments_lexer": "ipython3",
   "version": "3.12.4"
  }
 },
 "nbformat": 4,
 "nbformat_minor": 5
}
